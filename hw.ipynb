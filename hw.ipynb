{
 "cells": [
  {
   "cell_type": "code",
   "execution_count": 1,
   "id": "initial_id",
   "metadata": {
    "collapsed": true,
    "ExecuteTime": {
     "end_time": "2024-02-21T00:11:26.359492Z",
     "start_time": "2024-02-21T00:11:26.331671Z"
    }
   },
   "outputs": [
    {
     "data": {
      "text/plain": "4"
     },
     "execution_count": 1,
     "metadata": {},
     "output_type": "execute_result"
    }
   ],
   "source": [
    "2+2"
   ]
  },
  {
   "cell_type": "code",
   "outputs": [],
   "source": [
    "import numpy as np"
   ],
   "metadata": {
    "collapsed": false,
    "ExecuteTime": {
     "end_time": "2024-02-21T00:12:00.511804Z",
     "start_time": "2024-02-21T00:12:00.284282Z"
    }
   },
   "id": "e3b813d23529e167",
   "execution_count": 2
  },
  {
   "cell_type": "code",
   "outputs": [
    {
     "name": "stdout",
     "output_type": "stream",
     "text": [
      "[[11 12 13 14]\n",
      " [15 16 17 18]]\n"
     ]
    }
   ],
   "source": [
    "my_array=np.array([11,12,13,14,15,16,17,18])\n",
    "print(np.reshape(my_array,(2,4)))"
   ],
   "metadata": {
    "collapsed": false,
    "ExecuteTime": {
     "end_time": "2024-02-21T00:13:04.880443Z",
     "start_time": "2024-02-21T00:13:04.869920Z"
    }
   },
   "id": "62bb2cd7c99247fa",
   "execution_count": 3
  },
  {
   "cell_type": "code",
   "outputs": [
    {
     "name": "stdout",
     "output_type": "stream",
     "text": [
      "[[0. 0. 0.]\n",
      " [0. 0. 0.]\n",
      " [0. 0. 0.]\n",
      " [0. 0. 0.]]\n"
     ]
    }
   ],
   "source": [
    "zero_array=np.zeros((4,3))\n",
    "print(zero_array)"
   ],
   "metadata": {
    "collapsed": false,
    "ExecuteTime": {
     "end_time": "2024-02-21T00:14:04.147029Z",
     "start_time": "2024-02-21T00:14:04.130431Z"
    }
   },
   "id": "3fa2696e4e185a42",
   "execution_count": 5
  },
  {
   "cell_type": "code",
   "outputs": [
    {
     "name": "stdout",
     "output_type": "stream",
     "text": [
      "[[1. 1. 1. 1.]\n",
      " [1. 1. 1. 1.]\n",
      " [1. 1. 1. 1.]]\n"
     ]
    }
   ],
   "source": [
    "one_array=np.ones((3,4))\n",
    "print(one_array)"
   ],
   "metadata": {
    "collapsed": false,
    "ExecuteTime": {
     "end_time": "2024-02-21T00:15:00.191372Z",
     "start_time": "2024-02-21T00:15:00.182559Z"
    }
   },
   "id": "5d008472cc0e733a",
   "execution_count": 6
  },
  {
   "cell_type": "code",
   "outputs": [
    {
     "name": "stdout",
     "output_type": "stream",
     "text": [
      "[ 4  5  6  7  8  9 10 11 12 13]\n"
     ]
    }
   ],
   "source": [
    "count_array=np.arange(4,14)\n",
    "print(count_array)"
   ],
   "metadata": {
    "collapsed": false,
    "ExecuteTime": {
     "end_time": "2024-02-21T00:15:57.565709Z",
     "start_time": "2024-02-21T00:15:57.491692Z"
    }
   },
   "id": "110226e8ca7697b6",
   "execution_count": 7
  },
  {
   "cell_type": "code",
   "outputs": [
    {
     "name": "stdout",
     "output_type": "stream",
     "text": [
      "[0.  1.5 3.  4.5]\n"
     ]
    }
   ],
   "source": [
    "array=np.arange(0,6,1.5)\n",
    "print(array)"
   ],
   "metadata": {
    "collapsed": false,
    "ExecuteTime": {
     "end_time": "2024-02-21T00:17:49.847866Z",
     "start_time": "2024-02-21T00:17:49.833023Z"
    }
   },
   "id": "d640c816b9a9d6ca",
   "execution_count": 9
  },
  {
   "cell_type": "code",
   "outputs": [
    {
     "name": "stdout",
     "output_type": "stream",
     "text": [
      "[[4 4]\n",
      " [4 4]]\n"
     ]
    }
   ],
   "source": [
    "array=np.full((2,2),4)\n",
    "print(array)"
   ],
   "metadata": {
    "collapsed": false,
    "ExecuteTime": {
     "end_time": "2024-02-21T00:18:39.408296Z",
     "start_time": "2024-02-21T00:18:39.383528Z"
    }
   },
   "id": "81e9063b4fad1e1",
   "execution_count": 11
  },
  {
   "cell_type": "code",
   "outputs": [
    {
     "name": "stdout",
     "output_type": "stream",
     "text": [
      "[[1. 0. 0. 0.]\n",
      " [0. 1. 0. 0.]\n",
      " [0. 0. 1. 0.]\n",
      " [0. 0. 0. 1.]]\n"
     ]
    }
   ],
   "source": [
    "matrix=np.eye(4)\n",
    "print(matrix)"
   ],
   "metadata": {
    "collapsed": false,
    "ExecuteTime": {
     "end_time": "2024-02-21T00:19:51.876932Z",
     "start_time": "2024-02-21T00:19:51.865745Z"
    }
   },
   "id": "298e6c49dccb2905",
   "execution_count": 12
  },
  {
   "cell_type": "code",
   "outputs": [
    {
     "name": "stdout",
     "output_type": "stream",
     "text": [
      "[[10  0]\n",
      " [ 0 12]]\n"
     ]
    }
   ],
   "source": [
    "matrix=np.diag((10,12))\n",
    "print(matrix)"
   ],
   "metadata": {
    "collapsed": false,
    "ExecuteTime": {
     "end_time": "2024-02-21T00:21:13.604481Z",
     "start_time": "2024-02-21T00:21:13.588692Z"
    }
   },
   "id": "6ab834d7c66f23a1",
   "execution_count": 14
  },
  {
   "cell_type": "code",
   "outputs": [
    {
     "name": "stdout",
     "output_type": "stream",
     "text": [
      "[[6.17454368 7.38564083 6.96323317]\n",
      " [6.28884236 5.90141372 8.09061559]\n",
      " [2.61053634 4.39725554 1.18737473]]\n"
     ]
    }
   ],
   "source": [
    "array=np.random.uniform(0,10, size=(3,3))\n",
    "print(array)\n"
   ],
   "metadata": {
    "collapsed": false,
    "ExecuteTime": {
     "end_time": "2024-02-21T00:23:34.348827Z",
     "start_time": "2024-02-21T00:23:34.264733Z"
    }
   },
   "id": "7f21d7e5124fd336",
   "execution_count": 16
  },
  {
   "cell_type": "code",
   "outputs": [
    {
     "name": "stdout",
     "output_type": "stream",
     "text": [
      "[[16 12 17]\n",
      " [14 11 19]\n",
      " [18 19 12]]\n"
     ]
    }
   ],
   "source": [
    "array=np.random.randint(10,20, size=(3,3))\n",
    "print(array)"
   ],
   "metadata": {
    "collapsed": false,
    "ExecuteTime": {
     "end_time": "2024-02-21T00:25:39.058703Z",
     "start_time": "2024-02-21T00:25:39.047518Z"
    }
   },
   "id": "1b9c9538eb739d05",
   "execution_count": 20
  },
  {
   "cell_type": "code",
   "outputs": [
    {
     "name": "stdout",
     "output_type": "stream",
     "text": [
      "[11 12]\n",
      "[[ 0  0  0]\n",
      " [ 0  0  0]\n",
      " [17 18 19]]\n"
     ]
    }
   ],
   "source": [
    "myArray=np.array([[11,12,13],[14,15,16],[17,18,19]])\n",
    "print(myArray[0,:2])\n",
    "myArray[:2,:]=0\n",
    "print(myArray)"
   ],
   "metadata": {
    "collapsed": false,
    "ExecuteTime": {
     "end_time": "2024-02-21T00:29:06.784703Z",
     "start_time": "2024-02-21T00:29:06.770265Z"
    }
   },
   "id": "4d93d215422db3c4",
   "execution_count": 24
  },
  {
   "cell_type": "code",
   "outputs": [
    {
     "name": "stdout",
     "output_type": "stream",
     "text": [
      "[20 19 18 17 16 15 14 13 12 11 10  9  8  7  6  5  4  3  2  1  0]\n"
     ]
    }
   ],
   "source": [
    "array=np.arange(21)\n",
    "print(array[::-1])"
   ],
   "metadata": {
    "collapsed": false,
    "ExecuteTime": {
     "end_time": "2024-02-21T00:30:27.193268Z",
     "start_time": "2024-02-21T00:30:27.179130Z"
    }
   },
   "id": "e716b2b066594312",
   "execution_count": 26
  },
  {
   "cell_type": "code",
   "outputs": [
    {
     "name": "stdout",
     "output_type": "stream",
     "text": [
      "[[11 12]\n",
      " [13 14]\n",
      " [15 16]]\n"
     ]
    }
   ],
   "source": [
    "myArray=np.array([[11,12,13],[14,15,16]])\n",
    "array=np.reshape(myArray,(3,2))\n",
    "print(array)"
   ],
   "metadata": {
    "collapsed": false,
    "ExecuteTime": {
     "end_time": "2024-02-21T00:32:50.936215Z",
     "start_time": "2024-02-21T00:32:50.918425Z"
    }
   },
   "id": "fc98e1d0a65f2dc9",
   "execution_count": 28
  },
  {
   "cell_type": "code",
   "outputs": [
    {
     "name": "stdout",
     "output_type": "stream",
     "text": [
      "Squared array: [ 0  1  4  9 16 25 36 49 64 81]\n",
      "Square root: [0.         1.         1.41421356 1.73205081 2.         2.23606798\n",
      " 2.44948974 2.64575131 2.82842712 3.        ]\n",
      "[  0.           1.           5.65685425  15.58845727  32.\n",
      "  55.90169944  88.18163074 129.64181424 181.01933598 243.        ]\n"
     ]
    }
   ],
   "source": [
    "myArray=np.arange(10)\n",
    "print(\"Squared array:\", np.square(myArray))\n",
    "print(\"Square root:\",np.sqrt(myArray))\n",
    "print(np.square(myArray)*np.sqrt(myArray))"
   ],
   "metadata": {
    "collapsed": false,
    "ExecuteTime": {
     "end_time": "2024-02-21T00:36:02.114719Z",
     "start_time": "2024-02-21T00:36:02.104789Z"
    }
   },
   "id": "1e04a95da7120e92",
   "execution_count": 32
  },
  {
   "cell_type": "code",
   "outputs": [
    {
     "name": "stdout",
     "output_type": "stream",
     "text": [
      "[[11 12 13]\n",
      " [14 15 16]\n",
      " [17 18 19]\n",
      " [20 21 22]]\n"
     ]
    }
   ],
   "source": [
    "myArray=np.array([[11,12,13],[14,15,16],[17,18,19]])\n",
    "myArray=np.vstack([myArray,[20,21,22]])\n",
    "print(myArray)"
   ],
   "metadata": {
    "collapsed": false,
    "ExecuteTime": {
     "end_time": "2024-02-21T00:45:17.809981Z",
     "start_time": "2024-02-21T00:45:17.801885Z"
    }
   },
   "id": "75319a539b1133f2",
   "execution_count": 40
  },
  {
   "cell_type": "code",
   "outputs": [
    {
     "name": "stdout",
     "output_type": "stream",
     "text": [
      "[[11 12 13 30]\n",
      " [14 15 16 40]\n",
      " [17 18 19 50]]\n"
     ]
    }
   ],
   "source": [
    "myArray=np.array([[11,12,13],[14,15,16],[17,18,19]])\n",
    "column=np.array([[30],[40],[50]])\n",
    "result_array = np.hstack([myArray,column])\n",
    "print(result_array)"
   ],
   "metadata": {
    "collapsed": false,
    "ExecuteTime": {
     "end_time": "2024-02-21T00:45:31.404605Z",
     "start_time": "2024-02-21T00:45:31.399416Z"
    }
   },
   "id": "1a84f8432e52eba7",
   "execution_count": 41
  },
  {
   "cell_type": "code",
   "outputs": [
    {
     "name": "stdout",
     "output_type": "stream",
     "text": [
      "[[0. 0. 1.]\n",
      " [0. 0. 1.]]\n"
     ]
    }
   ],
   "source": [
    "myArray=np.zeros((2,2))\n",
    "ones=np.ones((2,1))\n",
    "myArray=np.hstack((myArray,ones))\n",
    "print(myArray)"
   ],
   "metadata": {
    "collapsed": false,
    "ExecuteTime": {
     "end_time": "2024-02-21T00:50:58.106709Z",
     "start_time": "2024-02-21T00:50:58.091610Z"
    }
   },
   "id": "7af283516ff26d5a",
   "execution_count": 48
  },
  {
   "cell_type": "code",
   "outputs": [
    {
     "name": "stdout",
     "output_type": "stream",
     "text": [
      "[[0. 0. 1.]\n",
      " [0. 0. 1.]\n",
      " [2. 2. 2.]\n",
      " [2. 2. 2.]]\n"
     ]
    }
   ],
   "source": [
    "myArray=np.zeros((2,2))\n",
    "ones=np.ones((2,1))\n",
    "myArray=np.hstack((myArray,ones))\n",
    "twos=np.full((2,myArray.shape[1]),2)\n",
    "myArray=np.vstack((myArray,twos))\n",
    "print(myArray)"
   ],
   "metadata": {
    "collapsed": false,
    "ExecuteTime": {
     "end_time": "2024-02-21T00:54:32.049379Z",
     "start_time": "2024-02-21T00:54:32.035553Z"
    }
   },
   "id": "f8eedd8e7abfa72a",
   "execution_count": 49
  },
  {
   "cell_type": "code",
   "outputs": [
    {
     "name": "stdout",
     "output_type": "stream",
     "text": [
      "[[0. 0.]\n",
      " [0. 0.]\n",
      " [2. 2.]\n",
      " [2. 2.]]\n"
     ]
    }
   ],
   "source": [
    "myArray=np.zeros((2,2))\n",
    "ones=np.ones((2,1))\n",
    "myArray=np.hstack((myArray,ones))\n",
    "twos=np.full((2,myArray.shape[1]),2)\n",
    "myArray=np.vstack((myArray,twos))\n",
    "column=myArray[:,:-1]\n",
    "print(column)"
   ],
   "metadata": {
    "collapsed": false,
    "ExecuteTime": {
     "end_time": "2024-02-21T00:55:54.571365Z",
     "start_time": "2024-02-21T00:55:54.559702Z"
    }
   },
   "id": "b6ae31392345c0db",
   "execution_count": 50
  },
  {
   "cell_type": "code",
   "outputs": [
    {
     "name": "stdout",
     "output_type": "stream",
     "text": [
      "[[0. 0. 1.]\n",
      " [0. 0. 1.]\n",
      " [2. 2. 2.]]\n"
     ]
    }
   ],
   "source": [
    "myArray=np.zeros((2,2))\n",
    "ones=np.ones((2,1))\n",
    "myArray=np.hstack((myArray,ones))\n",
    "twos=np.full((2,myArray.shape[1]),2)\n",
    "myArray=np.vstack((myArray,twos))\n",
    "result_array=myArray[:-1,:]\n",
    "print(result_array)"
   ],
   "metadata": {
    "collapsed": false,
    "ExecuteTime": {
     "end_time": "2024-02-21T00:59:40.342492Z",
     "start_time": "2024-02-21T00:59:40.334688Z"
    }
   },
   "id": "c06e7b7b4ba13e79",
   "execution_count": 54
  },
  {
   "cell_type": "code",
   "outputs": [
    {
     "name": "stdout",
     "output_type": "stream",
     "text": [
      "[[1 3]\n",
      " [4 6]\n",
      " [9 7]]\n"
     ]
    }
   ],
   "source": [
    "myArray=np.matrix([[1,2,3],[4,5,6],[9,8,7]])\n",
    "array=np.delete(myArray,1,axis=1)\n",
    "print(array)"
   ],
   "metadata": {
    "collapsed": false,
    "ExecuteTime": {
     "end_time": "2024-02-21T01:04:29.566888Z",
     "start_time": "2024-02-21T01:04:29.549150Z"
    }
   },
   "id": "d0235a643daddbfb",
   "execution_count": 59
  },
  {
   "cell_type": "code",
   "outputs": [],
   "source": [],
   "metadata": {
    "collapsed": false
   },
   "id": "52ecdae5fec44487"
  },
  {
   "cell_type": "markdown",
   "source": [],
   "metadata": {
    "collapsed": false
   },
   "id": "f80a5450d12b38c9"
  },
  {
   "cell_type": "code",
   "outputs": [],
   "source": [],
   "metadata": {
    "collapsed": false
   },
   "id": "c43df9c3dab007f0"
  },
  {
   "cell_type": "code",
   "outputs": [
    {
     "name": "stdout",
     "output_type": "stream",
     "text": [
      "[ 0 -1  2 -1  4 -1  6 -1  8 -1]\n"
     ]
    }
   ],
   "source": [
    "exercise_1=np.array([1,2,3,4,5,6,7,8,9])\n",
    "exercise_1[exercise_1 % 2 !=0 ]=-1\n",
    "exercise_1=np.insert(exercise_1,0,0)\n",
    "print(exercise_1)"
   ],
   "metadata": {
    "collapsed": false,
    "ExecuteTime": {
     "end_time": "2024-02-21T01:08:52.824444Z",
     "start_time": "2024-02-21T01:08:52.806325Z"
    }
   },
   "id": "f2746ac244e0c55c",
   "execution_count": 62
  },
  {
   "cell_type": "code",
   "outputs": [
    {
     "name": "stdout",
     "output_type": "stream",
     "text": [
      "[[0 1 2]\n",
      " [3 4 5]\n",
      " [6 7 8]]\n"
     ]
    }
   ],
   "source": [
    "exercise_2=np.array([0,1,2,3,4,5,6,7,8])\n",
    "array=exercise_2.reshape(3,3)\n",
    "print(array)"
   ],
   "metadata": {
    "collapsed": false,
    "ExecuteTime": {
     "end_time": "2024-02-21T01:10:47.233205Z",
     "start_time": "2024-02-21T01:10:47.223344Z"
    }
   },
   "id": "ee2a920ceae16de4",
   "execution_count": 64
  },
  {
   "cell_type": "code",
   "outputs": [
    {
     "name": "stdout",
     "output_type": "stream",
     "text": [
      "[[202 203]\n",
      " [204 205]]\n"
     ]
    }
   ],
   "source": [
    "exercise_3=np.arange(4).reshape(2,-1)\n",
    "array=exercise_3+202\n",
    "print(array)"
   ],
   "metadata": {
    "collapsed": false,
    "ExecuteTime": {
     "end_time": "2024-02-21T01:12:03.170792Z",
     "start_time": "2024-02-21T01:12:03.111322Z"
    }
   },
   "id": "7f4424e518f1496b",
   "execution_count": 65
  },
  {
   "cell_type": "code",
   "outputs": [
    {
     "name": "stdout",
     "output_type": "stream",
     "text": [
      "[32 34 32 38 39 30 37 32 35 35]\n"
     ]
    }
   ],
   "source": [
    "random=np.random.randint(30,41,size=10)\n",
    "print(random)"
   ],
   "metadata": {
    "collapsed": false,
    "ExecuteTime": {
     "end_time": "2024-02-21T01:13:24.843543Z",
     "start_time": "2024-02-21T01:13:24.824297Z"
    }
   },
   "id": "269c95f358d696e2",
   "execution_count": 67
  },
  {
   "cell_type": "code",
   "outputs": [
    {
     "name": "stdout",
     "output_type": "stream",
     "text": [
      "(array([1, 2, 4, 5, 6, 7, 8, 9]),) (array([0]),)\n"
     ]
    }
   ],
   "source": [
    "x=np.array([21,64,86,22,74,55,81,71,90,89])\n",
    "y=np.array([21,7,3,45,10,29,55,4,37,18])\n",
    "y_greater=np.where(x>y)\n",
    "equals_y=np.where(x==y)\n",
    "print(y_greater,equals_y)"
   ],
   "metadata": {
    "collapsed": false,
    "ExecuteTime": {
     "end_time": "2024-02-21T01:16:43.877539Z",
     "start_time": "2024-02-21T01:16:43.853691Z"
    }
   },
   "id": "26ce7166902da3bb",
   "execution_count": 68
  },
  {
   "cell_type": "code",
   "outputs": [
    {
     "name": "stdout",
     "output_type": "stream",
     "text": [
      "[[ 0  1  2  3]\n",
      " [20 21 22 23]\n",
      " [40 41 42 43]\n",
      " [60 61 62 63]\n",
      " [80 81 82 83]]\n"
     ]
    }
   ],
   "source": [
    "exercise_6=np.arange(100).reshape(5,-1)\n",
    "first_four=exercise_6[:,:4]\n",
    "print(first_four)"
   ],
   "metadata": {
    "collapsed": false,
    "ExecuteTime": {
     "end_time": "2024-02-21T01:18:17.597470Z",
     "start_time": "2024-02-21T01:18:17.570821Z"
    }
   },
   "id": "49abf92a9e634d62",
   "execution_count": 69
  },
  {
   "cell_type": "code",
   "outputs": [],
   "source": [],
   "metadata": {
    "collapsed": false
   },
   "id": "3495a4f6bdb743fb"
  }
 ],
 "metadata": {
  "kernelspec": {
   "display_name": "Python 3",
   "language": "python",
   "name": "python3"
  },
  "language_info": {
   "codemirror_mode": {
    "name": "ipython",
    "version": 2
   },
   "file_extension": ".py",
   "mimetype": "text/x-python",
   "name": "python",
   "nbconvert_exporter": "python",
   "pygments_lexer": "ipython2",
   "version": "2.7.6"
  }
 },
 "nbformat": 4,
 "nbformat_minor": 5
}
