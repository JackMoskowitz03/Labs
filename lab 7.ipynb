{
 "cells": [
  {
   "cell_type": "code",
   "execution_count": 14,
   "id": "initial_id",
   "metadata": {
    "collapsed": true,
    "ExecuteTime": {
     "end_time": "2024-04-02T22:51:49.222747Z",
     "start_time": "2024-04-02T22:51:49.208797Z"
    }
   },
   "outputs": [],
   "source": [
    "import numpy as np\n",
    "import pandas as pd\n",
    "from sklearn.datasets import load_breast_cancer\n",
    "from sklearn.svm import SVC\n",
    "cancer = load_breast_cancer()"
   ]
  },
  {
   "cell_type": "code",
   "outputs": [
    {
     "name": "stdout",
     "output_type": "stream",
     "text": [
      ".. _breast_cancer_dataset:\n",
      "\n",
      "Breast cancer wisconsin (diagnostic) dataset\n",
      "--------------------------------------------\n",
      "\n",
      "**Data Set Characteristics:**\n",
      "\n",
      "    :Number of Instances: 569\n",
      "\n",
      "    :Number of Attributes: 30 numeric, predictive attributes and the class\n",
      "\n",
      "    :Attribute Information:\n",
      "        - radius (mean of distances from center to points on the perimeter)\n",
      "        - texture (standard deviation of gray-scale values)\n",
      "        - perimeter\n",
      "        - area\n",
      "        - smoothness (local variation in radius lengths)\n",
      "        - compactness (perimeter^2 / area - 1.0)\n",
      "        - concavity (severity of concave portions of the contour)\n",
      "        - concave points (number of concave portions of the contour)\n",
      "        - symmetry\n",
      "        - fractal dimension (\"coastline approximation\" - 1)\n",
      "\n",
      "        The mean, standard error, and \"worst\" or largest (mean of the three\n",
      "        worst/largest values) of these features were computed for each image,\n",
      "        resulting in 30 features.  For instance, field 0 is Mean Radius, field\n",
      "        10 is Radius SE, field 20 is Worst Radius.\n",
      "\n",
      "        - class:\n",
      "                - WDBC-Malignant\n",
      "                - WDBC-Benign\n",
      "\n",
      "    :Summary Statistics:\n",
      "\n",
      "    ===================================== ====== ======\n",
      "                                           Min    Max\n",
      "    ===================================== ====== ======\n",
      "    radius (mean):                        6.981  28.11\n",
      "    texture (mean):                       9.71   39.28\n",
      "    perimeter (mean):                     43.79  188.5\n",
      "    area (mean):                          143.5  2501.0\n",
      "    smoothness (mean):                    0.053  0.163\n",
      "    compactness (mean):                   0.019  0.345\n",
      "    concavity (mean):                     0.0    0.427\n",
      "    concave points (mean):                0.0    0.201\n",
      "    symmetry (mean):                      0.106  0.304\n",
      "    fractal dimension (mean):             0.05   0.097\n",
      "    radius (standard error):              0.112  2.873\n",
      "    texture (standard error):             0.36   4.885\n",
      "    perimeter (standard error):           0.757  21.98\n",
      "    area (standard error):                6.802  542.2\n",
      "    smoothness (standard error):          0.002  0.031\n",
      "    compactness (standard error):         0.002  0.135\n",
      "    concavity (standard error):           0.0    0.396\n",
      "    concave points (standard error):      0.0    0.053\n",
      "    symmetry (standard error):            0.008  0.079\n",
      "    fractal dimension (standard error):   0.001  0.03\n",
      "    radius (worst):                       7.93   36.04\n",
      "    texture (worst):                      12.02  49.54\n",
      "    perimeter (worst):                    50.41  251.2\n",
      "    area (worst):                         185.2  4254.0\n",
      "    smoothness (worst):                   0.071  0.223\n",
      "    compactness (worst):                  0.027  1.058\n",
      "    concavity (worst):                    0.0    1.252\n",
      "    concave points (worst):               0.0    0.291\n",
      "    symmetry (worst):                     0.156  0.664\n",
      "    fractal dimension (worst):            0.055  0.208\n",
      "    ===================================== ====== ======\n",
      "\n",
      "    :Missing Attribute Values: None\n",
      "\n",
      "    :Class Distribution: 212 - Malignant, 357 - Benign\n",
      "\n",
      "    :Creator:  Dr. William H. Wolberg, W. Nick Street, Olvi L. Mangasarian\n",
      "\n",
      "    :Donor: Nick Street\n",
      "\n",
      "    :Date: November, 1995\n",
      "\n",
      "This is a copy of UCI ML Breast Cancer Wisconsin (Diagnostic) datasets.\n",
      "https://goo.gl/U2Uwz2\n",
      "\n",
      "Features are computed from a digitized image of a fine needle\n",
      "aspirate (FNA) of a breast mass.  They describe\n",
      "characteristics of the cell nuclei present in the image.\n",
      "\n",
      "Separating plane described above was obtained using\n",
      "Multisurface Method-Tree (MSM-T) [K. P. Bennett, \"Decision Tree\n",
      "Construction Via Linear Programming.\" Proceedings of the 4th\n",
      "Midwest Artificial Intelligence and Cognitive Science Society,\n",
      "pp. 97-101, 1992], a classification method which uses linear\n",
      "programming to construct a decision tree.  Relevant features\n",
      "were selected using an exhaustive search in the space of 1-4\n",
      "features and 1-3 separating planes.\n",
      "\n",
      "The actual linear program used to obtain the separating plane\n",
      "in the 3-dimensional space is that described in:\n",
      "[K. P. Bennett and O. L. Mangasarian: \"Robust Linear\n",
      "Programming Discrimination of Two Linearly Inseparable Sets\",\n",
      "Optimization Methods and Software 1, 1992, 23-34].\n",
      "\n",
      "This database is also available through the UW CS ftp server:\n",
      "\n",
      "ftp ftp.cs.wisc.edu\n",
      "cd math-prog/cpo-dataset/machine-learn/WDBC/\n",
      "\n",
      ".. topic:: References\n",
      "\n",
      "   - W.N. Street, W.H. Wolberg and O.L. Mangasarian. Nuclear feature extraction \n",
      "     for breast tumor diagnosis. IS&T/SPIE 1993 International Symposium on \n",
      "     Electronic Imaging: Science and Technology, volume 1905, pages 861-870,\n",
      "     San Jose, CA, 1993.\n",
      "   - O.L. Mangasarian, W.N. Street and W.H. Wolberg. Breast cancer diagnosis and \n",
      "     prognosis via linear programming. Operations Research, 43(4), pages 570-577, \n",
      "     July-August 1995.\n",
      "   - W.H. Wolberg, W.N. Street, and O.L. Mangasarian. Machine learning techniques\n",
      "     to diagnose breast cancer from fine-needle aspirates. Cancer Letters 77 (1994) \n",
      "     163-171.\n"
     ]
    }
   ],
   "source": [
    "print(cancer.DESCR) "
   ],
   "metadata": {
    "collapsed": false,
    "ExecuteTime": {
     "end_time": "2024-04-02T22:43:17.847930Z",
     "start_time": "2024-04-02T22:43:17.840205Z"
    }
   },
   "id": "195b790ee74f4e1d",
   "execution_count": 6
  },
  {
   "cell_type": "code",
   "outputs": [
    {
     "name": "stdout",
     "output_type": "stream",
     "text": [
      "30\n"
     ]
    }
   ],
   "source": [
    "def num_of_features():\n",
    "    return len(cancer.feature_names)\n",
    "\n",
    "print(num_of_features())"
   ],
   "metadata": {
    "collapsed": false,
    "ExecuteTime": {
     "end_time": "2024-04-02T22:47:08.483672Z",
     "start_time": "2024-04-02T22:47:08.474780Z"
    }
   },
   "id": "1eaf47afb319693f",
   "execution_count": 8
  },
  {
   "cell_type": "code",
   "outputs": [
    {
     "name": "stdout",
     "output_type": "stream",
     "text": [
      "0.9226713532513181\n"
     ]
    }
   ],
   "source": [
    "df = pd.DataFrame(data=np.c_[cancer.data, cancer.target], columns=np.append(cancer.feature_names, ['target']))\n",
    "\n",
    "\n",
    "X = df.drop('target', axis=1)\n",
    "y = df['target']\n",
    "\n",
    "clf = SVC()\n",
    "clf.fit(X, y)\n",
    "\n",
    "print(clf.score(X, y))"
   ],
   "metadata": {
    "collapsed": false,
    "ExecuteTime": {
     "end_time": "2024-04-02T22:53:29.369171Z",
     "start_time": "2024-04-02T22:53:29.340635Z"
    }
   },
   "id": "868989fc40c06f8a",
   "execution_count": 16
  },
  {
   "cell_type": "code",
   "outputs": [
    {
     "name": "stdout",
     "output_type": "stream",
     "text": [
      "malignat    357\n",
      "benign      212\n",
      "Name: target, dtype: int64\n"
     ]
    }
   ],
   "source": [
    "def class_distribution():\n",
    "    cancer=load_breast_cancer()\n",
    "    \n",
    "    df=pd.DataFrame(data=np.c_[cancer.data, cancer.target], columns=np.append(cancer.feature_names, ['target']))\n",
    "    \n",
    "    class_counts= df['target'].value_counts()\n",
    "    class_names=['malignat','benign']\n",
    "    target_distribution=pd.Series(data=class_counts.values, index=class_names,name='target')\n",
    "    return target_distribution\n",
    "print(class_distribution())\n",
    "    "
   ],
   "metadata": {
    "collapsed": false,
    "ExecuteTime": {
     "end_time": "2024-04-02T22:58:28.981795Z",
     "start_time": "2024-04-02T22:58:28.966267Z"
    }
   },
   "id": "b64742cdda50ec4a",
   "execution_count": 18
  },
  {
   "cell_type": "code",
   "outputs": [
    {
     "name": "stdout",
     "output_type": "stream",
     "text": [
      "(569, 30)\n",
      "(569,)\n"
     ]
    }
   ],
   "source": [
    "def data_split():\n",
    "    cancer=load_breast_cancer()\n",
    "    df=pd.DataFrame(data=np.c_[cancer.data, cancer.target], columns=np.append(cancer.feature_names, ['target']))\n",
    "    X=df.drop('target', axis=1)\n",
    "    y=df['target']\n",
    "    return X,y\n",
    "X,y=data_split()\n",
    "print(X.shape)\n",
    "print(y.shape)\n",
    "    "
   ],
   "metadata": {
    "collapsed": false,
    "ExecuteTime": {
     "end_time": "2024-04-02T23:08:46.909337Z",
     "start_time": "2024-04-02T23:08:46.894637Z"
    }
   },
   "id": "151ab2b556b67649",
   "execution_count": 25
  },
  {
   "cell_type": "code",
   "outputs": [
    {
     "name": "stdout",
     "output_type": "stream",
     "text": [
      "(426, 30)\n",
      "(143, 30)\n",
      "(426,)\n",
      "(143,)\n"
     ]
    }
   ],
   "source": [
    "from sklearn.model_selection import train_test_split\n",
    "def split():\n",
    "    cancer=load_breast_cancer()\n",
    "    df=pd.DataFrame(data=np.c_[cancer.data, cancer.target], columns=np.append(cancer.feature_names, ['target']))\n",
    "    X=df.drop('target', axis=1)\n",
    "    y=df['target']\n",
    "    return X,y\n",
    "X,y=split()\n",
    "X_train, X_test, y_train, y_test = train_test_split(X, y, random_state=0)\n",
    "print(X_train.shape)\n",
    "print(X_test.shape)\n",
    "print(y_train.shape)\n",
    "print(y_test.shape)\n"
   ],
   "metadata": {
    "collapsed": false,
    "ExecuteTime": {
     "end_time": "2024-04-02T23:10:44.119208Z",
     "start_time": "2024-04-02T23:10:44.102377Z"
    }
   },
   "id": "ed96042094fd8582",
   "execution_count": 26
  },
  {
   "cell_type": "code",
   "outputs": [],
   "source": [
    "from sklearn.neighbors import KNeighborsClassifier\n",
    "def knn_classifier(X_train,y_train):\n",
    "    knn=KNeighborsClassifier(n_neighbors=1)\n",
    "    knn.fit(X_train,y_train)\n",
    "    return knn\n",
    "    "
   ],
   "metadata": {
    "collapsed": false,
    "ExecuteTime": {
     "end_time": "2024-04-02T23:23:47.553503Z",
     "start_time": "2024-04-02T23:23:47.270637Z"
    }
   },
   "id": "d65b6d5aada255be",
   "execution_count": 31
  },
  {
   "cell_type": "markdown",
   "source": [],
   "metadata": {
    "collapsed": false
   },
   "id": "f24b280dbfa4ed8d"
  },
  {
   "cell_type": "code",
   "outputs": [
    {
     "name": "stdout",
     "output_type": "stream",
     "text": [
      "[1.]\n"
     ]
    },
    {
     "name": "stderr",
     "output_type": "stream",
     "text": [
      "/Users/jackmoskowitz/anaconda3/lib/python3.11/site-packages/sklearn/base.py:464: UserWarning: X does not have valid feature names, but KNeighborsClassifier was fitted with feature names\n",
      "  warnings.warn(\n"
     ]
    }
   ],
   "source": [
    "cancer=load_breast_cancer()\n",
    "cancerdf=pd.DataFrame(data=np.c_[cancer.data, cancer.target], columns=np.append(cancer.feature_names, ['target']))\n",
    "def predicted_label(knn_classifier, cancerdf):\n",
    "    mean_values = cancerdf.mean()[:-1].values.reshape(1, -1)\n",
    "    predicted_label = knn_classifier.predict(mean_values)\n",
    "    return predicted_label\n",
    "print(predicted_label(knn_classifier,cancerdf))\n"
   ],
   "metadata": {
    "collapsed": false,
    "ExecuteTime": {
     "end_time": "2024-04-02T23:37:26.661501Z",
     "start_time": "2024-04-02T23:37:26.640090Z"
    }
   },
   "id": "ebad761dd318635d",
   "execution_count": 50
  },
  {
   "cell_type": "markdown",
   "source": [],
   "metadata": {
    "collapsed": false
   },
   "id": "d4cdb6c8c38bfef"
  },
  {
   "cell_type": "code",
   "outputs": [
    {
     "ename": "AttributeError",
     "evalue": "'Flags' object has no attribute 'c_contiguous'",
     "output_type": "error",
     "traceback": [
      "\u001B[0;31m---------------------------------------------------------------------------\u001B[0m",
      "\u001B[0;31mAttributeError\u001B[0m                            Traceback (most recent call last)",
      "Cell \u001B[0;32mIn[54], line 5\u001B[0m\n\u001B[1;32m      2\u001B[0m     predicted_labels \u001B[38;5;241m=\u001B[39m knn_classifier\u001B[38;5;241m.\u001B[39mpredict(X_test)\n\u001B[1;32m      3\u001B[0m     \u001B[38;5;28;01mreturn\u001B[39;00m predicted_labels\n\u001B[0;32m----> 5\u001B[0m \u001B[38;5;28mprint\u001B[39m(predict_labels(knn_classifier, X_test))\n",
      "Cell \u001B[0;32mIn[54], line 2\u001B[0m, in \u001B[0;36mpredict_labels\u001B[0;34m(knn_classifier, X_test)\u001B[0m\n\u001B[1;32m      1\u001B[0m \u001B[38;5;28;01mdef\u001B[39;00m \u001B[38;5;21mpredict_labels\u001B[39m(knn_classifier, X_test):\n\u001B[0;32m----> 2\u001B[0m     predicted_labels \u001B[38;5;241m=\u001B[39m knn_classifier\u001B[38;5;241m.\u001B[39mpredict(X_test)\n\u001B[1;32m      3\u001B[0m     \u001B[38;5;28;01mreturn\u001B[39;00m predicted_labels\n",
      "File \u001B[0;32m~/anaconda3/lib/python3.11/site-packages/sklearn/neighbors/_classification.py:246\u001B[0m, in \u001B[0;36mKNeighborsClassifier.predict\u001B[0;34m(self, X)\u001B[0m\n\u001B[1;32m    244\u001B[0m check_is_fitted(\u001B[38;5;28mself\u001B[39m, \u001B[38;5;124m\"\u001B[39m\u001B[38;5;124m_fit_method\u001B[39m\u001B[38;5;124m\"\u001B[39m)\n\u001B[1;32m    245\u001B[0m \u001B[38;5;28;01mif\u001B[39;00m \u001B[38;5;28mself\u001B[39m\u001B[38;5;241m.\u001B[39mweights \u001B[38;5;241m==\u001B[39m \u001B[38;5;124m\"\u001B[39m\u001B[38;5;124muniform\u001B[39m\u001B[38;5;124m\"\u001B[39m:\n\u001B[0;32m--> 246\u001B[0m     \u001B[38;5;28;01mif\u001B[39;00m \u001B[38;5;28mself\u001B[39m\u001B[38;5;241m.\u001B[39m_fit_method \u001B[38;5;241m==\u001B[39m \u001B[38;5;124m\"\u001B[39m\u001B[38;5;124mbrute\u001B[39m\u001B[38;5;124m\"\u001B[39m \u001B[38;5;129;01mand\u001B[39;00m ArgKminClassMode\u001B[38;5;241m.\u001B[39mis_usable_for(\n\u001B[1;32m    247\u001B[0m         X, \u001B[38;5;28mself\u001B[39m\u001B[38;5;241m.\u001B[39m_fit_X, \u001B[38;5;28mself\u001B[39m\u001B[38;5;241m.\u001B[39mmetric\n\u001B[1;32m    248\u001B[0m     ):\n\u001B[1;32m    249\u001B[0m         probabilities \u001B[38;5;241m=\u001B[39m \u001B[38;5;28mself\u001B[39m\u001B[38;5;241m.\u001B[39mpredict_proba(X)\n\u001B[1;32m    250\u001B[0m         \u001B[38;5;28;01mif\u001B[39;00m \u001B[38;5;28mself\u001B[39m\u001B[38;5;241m.\u001B[39moutputs_2d_:\n",
      "File \u001B[0;32m~/anaconda3/lib/python3.11/site-packages/sklearn/metrics/_pairwise_distances_reduction/_dispatcher.py:471\u001B[0m, in \u001B[0;36mArgKminClassMode.is_usable_for\u001B[0;34m(cls, X, Y, metric)\u001B[0m\n\u001B[1;32m    448\u001B[0m \u001B[38;5;129m@classmethod\u001B[39m\n\u001B[1;32m    449\u001B[0m \u001B[38;5;28;01mdef\u001B[39;00m \u001B[38;5;21mis_usable_for\u001B[39m(\u001B[38;5;28mcls\u001B[39m, X, Y, metric) \u001B[38;5;241m-\u001B[39m\u001B[38;5;241m>\u001B[39m \u001B[38;5;28mbool\u001B[39m:\n\u001B[1;32m    450\u001B[0m \u001B[38;5;250m    \u001B[39m\u001B[38;5;124;03m\"\"\"Return True if the dispatcher can be used for the given parameters.\u001B[39;00m\n\u001B[1;32m    451\u001B[0m \n\u001B[1;32m    452\u001B[0m \u001B[38;5;124;03m    Parameters\u001B[39;00m\n\u001B[0;32m   (...)\u001B[0m\n\u001B[1;32m    468\u001B[0m \u001B[38;5;124;03m    True if the PairwiseDistancesReduction can be used, else False.\u001B[39;00m\n\u001B[1;32m    469\u001B[0m \u001B[38;5;124;03m    \"\"\"\u001B[39;00m\n\u001B[1;32m    470\u001B[0m     \u001B[38;5;28;01mreturn\u001B[39;00m (\n\u001B[0;32m--> 471\u001B[0m         ArgKmin\u001B[38;5;241m.\u001B[39mis_usable_for(X, Y, metric)\n\u001B[1;32m    472\u001B[0m         \u001B[38;5;66;03m# TODO: Support CSR matrices.\u001B[39;00m\n\u001B[1;32m    473\u001B[0m         \u001B[38;5;129;01mand\u001B[39;00m \u001B[38;5;129;01mnot\u001B[39;00m issparse(X)\n\u001B[1;32m    474\u001B[0m         \u001B[38;5;129;01mand\u001B[39;00m \u001B[38;5;129;01mnot\u001B[39;00m issparse(Y)\n\u001B[1;32m    475\u001B[0m         \u001B[38;5;66;03m# TODO: implement Euclidean specialization with GEMM.\u001B[39;00m\n\u001B[1;32m    476\u001B[0m         \u001B[38;5;129;01mand\u001B[39;00m metric \u001B[38;5;129;01mnot\u001B[39;00m \u001B[38;5;129;01min\u001B[39;00m (\u001B[38;5;124m\"\u001B[39m\u001B[38;5;124meuclidean\u001B[39m\u001B[38;5;124m\"\u001B[39m, \u001B[38;5;124m\"\u001B[39m\u001B[38;5;124msqeuclidean\u001B[39m\u001B[38;5;124m\"\u001B[39m)\n\u001B[1;32m    477\u001B[0m     )\n",
      "File \u001B[0;32m~/anaconda3/lib/python3.11/site-packages/sklearn/metrics/_pairwise_distances_reduction/_dispatcher.py:115\u001B[0m, in \u001B[0;36mBaseDistancesReductionDispatcher.is_usable_for\u001B[0;34m(cls, X, Y, metric)\u001B[0m\n\u001B[1;32m    101\u001B[0m \u001B[38;5;28;01mdef\u001B[39;00m \u001B[38;5;21mis_valid_sparse_matrix\u001B[39m(X):\n\u001B[1;32m    102\u001B[0m     \u001B[38;5;28;01mreturn\u001B[39;00m (\n\u001B[1;32m    103\u001B[0m         isspmatrix_csr(X)\n\u001B[1;32m    104\u001B[0m         \u001B[38;5;129;01mand\u001B[39;00m\n\u001B[0;32m   (...)\u001B[0m\n\u001B[1;32m    110\u001B[0m         X\u001B[38;5;241m.\u001B[39mindices\u001B[38;5;241m.\u001B[39mdtype \u001B[38;5;241m==\u001B[39m X\u001B[38;5;241m.\u001B[39mindptr\u001B[38;5;241m.\u001B[39mdtype \u001B[38;5;241m==\u001B[39m np\u001B[38;5;241m.\u001B[39mint32\n\u001B[1;32m    111\u001B[0m     )\n\u001B[1;32m    113\u001B[0m is_usable \u001B[38;5;241m=\u001B[39m (\n\u001B[1;32m    114\u001B[0m     get_config()\u001B[38;5;241m.\u001B[39mget(\u001B[38;5;124m\"\u001B[39m\u001B[38;5;124menable_cython_pairwise_dist\u001B[39m\u001B[38;5;124m\"\u001B[39m, \u001B[38;5;28;01mTrue\u001B[39;00m)\n\u001B[0;32m--> 115\u001B[0m     \u001B[38;5;129;01mand\u001B[39;00m (is_numpy_c_ordered(X) \u001B[38;5;129;01mor\u001B[39;00m is_valid_sparse_matrix(X))\n\u001B[1;32m    116\u001B[0m     \u001B[38;5;129;01mand\u001B[39;00m (is_numpy_c_ordered(Y) \u001B[38;5;129;01mor\u001B[39;00m is_valid_sparse_matrix(Y))\n\u001B[1;32m    117\u001B[0m     \u001B[38;5;129;01mand\u001B[39;00m X\u001B[38;5;241m.\u001B[39mdtype \u001B[38;5;241m==\u001B[39m Y\u001B[38;5;241m.\u001B[39mdtype\n\u001B[1;32m    118\u001B[0m     \u001B[38;5;129;01mand\u001B[39;00m X\u001B[38;5;241m.\u001B[39mdtype \u001B[38;5;129;01min\u001B[39;00m (np\u001B[38;5;241m.\u001B[39mfloat32, np\u001B[38;5;241m.\u001B[39mfloat64)\n\u001B[1;32m    119\u001B[0m     \u001B[38;5;129;01mand\u001B[39;00m metric \u001B[38;5;129;01min\u001B[39;00m \u001B[38;5;28mcls\u001B[39m\u001B[38;5;241m.\u001B[39mvalid_metrics()\n\u001B[1;32m    120\u001B[0m )\n\u001B[1;32m    122\u001B[0m \u001B[38;5;28;01mreturn\u001B[39;00m is_usable\n",
      "File \u001B[0;32m~/anaconda3/lib/python3.11/site-packages/sklearn/metrics/_pairwise_distances_reduction/_dispatcher.py:99\u001B[0m, in \u001B[0;36mBaseDistancesReductionDispatcher.is_usable_for.<locals>.is_numpy_c_ordered\u001B[0;34m(X)\u001B[0m\n\u001B[1;32m     98\u001B[0m \u001B[38;5;28;01mdef\u001B[39;00m \u001B[38;5;21mis_numpy_c_ordered\u001B[39m(X):\n\u001B[0;32m---> 99\u001B[0m     \u001B[38;5;28;01mreturn\u001B[39;00m \u001B[38;5;28mhasattr\u001B[39m(X, \u001B[38;5;124m\"\u001B[39m\u001B[38;5;124mflags\u001B[39m\u001B[38;5;124m\"\u001B[39m) \u001B[38;5;129;01mand\u001B[39;00m X\u001B[38;5;241m.\u001B[39mflags\u001B[38;5;241m.\u001B[39mc_contiguous\n",
      "\u001B[0;31mAttributeError\u001B[0m: 'Flags' object has no attribute 'c_contiguous'"
     ]
    }
   ],
   "source": [
    "def predict_labels(knn_classifier, X_test):\n",
    "    predicted_labels = knn_classifier.predict(X_test)\n",
    "    return predicted_labels\n",
    "\n",
    "print(predict_labels(knn_classifier, X_test))\n"
   ],
   "metadata": {
    "collapsed": false,
    "ExecuteTime": {
     "end_time": "2024-04-02T23:38:45.239212Z",
     "start_time": "2024-04-02T23:38:45.197351Z"
    }
   },
   "id": "af64354b326dce",
   "execution_count": 54
  },
  {
   "cell_type": "code",
   "outputs": [
    {
     "ename": "AttributeError",
     "evalue": "'Flags' object has no attribute 'c_contiguous'",
     "output_type": "error",
     "traceback": [
      "\u001B[0;31m---------------------------------------------------------------------------\u001B[0m",
      "\u001B[0;31mAttributeError\u001B[0m                            Traceback (most recent call last)",
      "Cell \u001B[0;32mIn[55], line 6\u001B[0m\n\u001B[1;32m      4\u001B[0m knn\u001B[38;5;241m=\u001B[39mKNeighborsClassifier(n_neighbors\u001B[38;5;241m=\u001B[39m\u001B[38;5;241m1\u001B[39m)\n\u001B[1;32m      5\u001B[0m knn\u001B[38;5;241m.\u001B[39mfit(X_train,y_train)\n\u001B[0;32m----> 6\u001B[0m \u001B[38;5;28mprint\u001B[39m(knn_classifier_score(knn_classifier,X_test,y_test))\n",
      "Cell \u001B[0;32mIn[55], line 2\u001B[0m, in \u001B[0;36mknn_classifier_score\u001B[0;34m(knn_classifier, X_test, y_test)\u001B[0m\n\u001B[1;32m      1\u001B[0m \u001B[38;5;28;01mdef\u001B[39;00m \u001B[38;5;21mknn_classifier_score\u001B[39m(knn_classifier, X_test, y_test):\n\u001B[0;32m----> 2\u001B[0m     score \u001B[38;5;241m=\u001B[39m knn_classifier\u001B[38;5;241m.\u001B[39mscore(X_test, y_test)\n\u001B[1;32m      3\u001B[0m     \u001B[38;5;28;01mreturn\u001B[39;00m score\n",
      "File \u001B[0;32m~/anaconda3/lib/python3.11/site-packages/sklearn/base.py:705\u001B[0m, in \u001B[0;36mClassifierMixin.score\u001B[0;34m(self, X, y, sample_weight)\u001B[0m\n\u001B[1;32m    680\u001B[0m \u001B[38;5;250m\u001B[39m\u001B[38;5;124;03m\"\"\"\u001B[39;00m\n\u001B[1;32m    681\u001B[0m \u001B[38;5;124;03mReturn the mean accuracy on the given test data and labels.\u001B[39;00m\n\u001B[1;32m    682\u001B[0m \n\u001B[0;32m   (...)\u001B[0m\n\u001B[1;32m    701\u001B[0m \u001B[38;5;124;03m    Mean accuracy of ``self.predict(X)`` w.r.t. `y`.\u001B[39;00m\n\u001B[1;32m    702\u001B[0m \u001B[38;5;124;03m\"\"\"\u001B[39;00m\n\u001B[1;32m    703\u001B[0m \u001B[38;5;28;01mfrom\u001B[39;00m \u001B[38;5;21;01m.\u001B[39;00m\u001B[38;5;21;01mmetrics\u001B[39;00m \u001B[38;5;28;01mimport\u001B[39;00m accuracy_score\n\u001B[0;32m--> 705\u001B[0m \u001B[38;5;28;01mreturn\u001B[39;00m accuracy_score(y, \u001B[38;5;28mself\u001B[39m\u001B[38;5;241m.\u001B[39mpredict(X), sample_weight\u001B[38;5;241m=\u001B[39msample_weight)\n",
      "File \u001B[0;32m~/anaconda3/lib/python3.11/site-packages/sklearn/neighbors/_classification.py:246\u001B[0m, in \u001B[0;36mKNeighborsClassifier.predict\u001B[0;34m(self, X)\u001B[0m\n\u001B[1;32m    244\u001B[0m check_is_fitted(\u001B[38;5;28mself\u001B[39m, \u001B[38;5;124m\"\u001B[39m\u001B[38;5;124m_fit_method\u001B[39m\u001B[38;5;124m\"\u001B[39m)\n\u001B[1;32m    245\u001B[0m \u001B[38;5;28;01mif\u001B[39;00m \u001B[38;5;28mself\u001B[39m\u001B[38;5;241m.\u001B[39mweights \u001B[38;5;241m==\u001B[39m \u001B[38;5;124m\"\u001B[39m\u001B[38;5;124muniform\u001B[39m\u001B[38;5;124m\"\u001B[39m:\n\u001B[0;32m--> 246\u001B[0m     \u001B[38;5;28;01mif\u001B[39;00m \u001B[38;5;28mself\u001B[39m\u001B[38;5;241m.\u001B[39m_fit_method \u001B[38;5;241m==\u001B[39m \u001B[38;5;124m\"\u001B[39m\u001B[38;5;124mbrute\u001B[39m\u001B[38;5;124m\"\u001B[39m \u001B[38;5;129;01mand\u001B[39;00m ArgKminClassMode\u001B[38;5;241m.\u001B[39mis_usable_for(\n\u001B[1;32m    247\u001B[0m         X, \u001B[38;5;28mself\u001B[39m\u001B[38;5;241m.\u001B[39m_fit_X, \u001B[38;5;28mself\u001B[39m\u001B[38;5;241m.\u001B[39mmetric\n\u001B[1;32m    248\u001B[0m     ):\n\u001B[1;32m    249\u001B[0m         probabilities \u001B[38;5;241m=\u001B[39m \u001B[38;5;28mself\u001B[39m\u001B[38;5;241m.\u001B[39mpredict_proba(X)\n\u001B[1;32m    250\u001B[0m         \u001B[38;5;28;01mif\u001B[39;00m \u001B[38;5;28mself\u001B[39m\u001B[38;5;241m.\u001B[39moutputs_2d_:\n",
      "File \u001B[0;32m~/anaconda3/lib/python3.11/site-packages/sklearn/metrics/_pairwise_distances_reduction/_dispatcher.py:471\u001B[0m, in \u001B[0;36mArgKminClassMode.is_usable_for\u001B[0;34m(cls, X, Y, metric)\u001B[0m\n\u001B[1;32m    448\u001B[0m \u001B[38;5;129m@classmethod\u001B[39m\n\u001B[1;32m    449\u001B[0m \u001B[38;5;28;01mdef\u001B[39;00m \u001B[38;5;21mis_usable_for\u001B[39m(\u001B[38;5;28mcls\u001B[39m, X, Y, metric) \u001B[38;5;241m-\u001B[39m\u001B[38;5;241m>\u001B[39m \u001B[38;5;28mbool\u001B[39m:\n\u001B[1;32m    450\u001B[0m \u001B[38;5;250m    \u001B[39m\u001B[38;5;124;03m\"\"\"Return True if the dispatcher can be used for the given parameters.\u001B[39;00m\n\u001B[1;32m    451\u001B[0m \n\u001B[1;32m    452\u001B[0m \u001B[38;5;124;03m    Parameters\u001B[39;00m\n\u001B[0;32m   (...)\u001B[0m\n\u001B[1;32m    468\u001B[0m \u001B[38;5;124;03m    True if the PairwiseDistancesReduction can be used, else False.\u001B[39;00m\n\u001B[1;32m    469\u001B[0m \u001B[38;5;124;03m    \"\"\"\u001B[39;00m\n\u001B[1;32m    470\u001B[0m     \u001B[38;5;28;01mreturn\u001B[39;00m (\n\u001B[0;32m--> 471\u001B[0m         ArgKmin\u001B[38;5;241m.\u001B[39mis_usable_for(X, Y, metric)\n\u001B[1;32m    472\u001B[0m         \u001B[38;5;66;03m# TODO: Support CSR matrices.\u001B[39;00m\n\u001B[1;32m    473\u001B[0m         \u001B[38;5;129;01mand\u001B[39;00m \u001B[38;5;129;01mnot\u001B[39;00m issparse(X)\n\u001B[1;32m    474\u001B[0m         \u001B[38;5;129;01mand\u001B[39;00m \u001B[38;5;129;01mnot\u001B[39;00m issparse(Y)\n\u001B[1;32m    475\u001B[0m         \u001B[38;5;66;03m# TODO: implement Euclidean specialization with GEMM.\u001B[39;00m\n\u001B[1;32m    476\u001B[0m         \u001B[38;5;129;01mand\u001B[39;00m metric \u001B[38;5;129;01mnot\u001B[39;00m \u001B[38;5;129;01min\u001B[39;00m (\u001B[38;5;124m\"\u001B[39m\u001B[38;5;124meuclidean\u001B[39m\u001B[38;5;124m\"\u001B[39m, \u001B[38;5;124m\"\u001B[39m\u001B[38;5;124msqeuclidean\u001B[39m\u001B[38;5;124m\"\u001B[39m)\n\u001B[1;32m    477\u001B[0m     )\n",
      "File \u001B[0;32m~/anaconda3/lib/python3.11/site-packages/sklearn/metrics/_pairwise_distances_reduction/_dispatcher.py:115\u001B[0m, in \u001B[0;36mBaseDistancesReductionDispatcher.is_usable_for\u001B[0;34m(cls, X, Y, metric)\u001B[0m\n\u001B[1;32m    101\u001B[0m \u001B[38;5;28;01mdef\u001B[39;00m \u001B[38;5;21mis_valid_sparse_matrix\u001B[39m(X):\n\u001B[1;32m    102\u001B[0m     \u001B[38;5;28;01mreturn\u001B[39;00m (\n\u001B[1;32m    103\u001B[0m         isspmatrix_csr(X)\n\u001B[1;32m    104\u001B[0m         \u001B[38;5;129;01mand\u001B[39;00m\n\u001B[0;32m   (...)\u001B[0m\n\u001B[1;32m    110\u001B[0m         X\u001B[38;5;241m.\u001B[39mindices\u001B[38;5;241m.\u001B[39mdtype \u001B[38;5;241m==\u001B[39m X\u001B[38;5;241m.\u001B[39mindptr\u001B[38;5;241m.\u001B[39mdtype \u001B[38;5;241m==\u001B[39m np\u001B[38;5;241m.\u001B[39mint32\n\u001B[1;32m    111\u001B[0m     )\n\u001B[1;32m    113\u001B[0m is_usable \u001B[38;5;241m=\u001B[39m (\n\u001B[1;32m    114\u001B[0m     get_config()\u001B[38;5;241m.\u001B[39mget(\u001B[38;5;124m\"\u001B[39m\u001B[38;5;124menable_cython_pairwise_dist\u001B[39m\u001B[38;5;124m\"\u001B[39m, \u001B[38;5;28;01mTrue\u001B[39;00m)\n\u001B[0;32m--> 115\u001B[0m     \u001B[38;5;129;01mand\u001B[39;00m (is_numpy_c_ordered(X) \u001B[38;5;129;01mor\u001B[39;00m is_valid_sparse_matrix(X))\n\u001B[1;32m    116\u001B[0m     \u001B[38;5;129;01mand\u001B[39;00m (is_numpy_c_ordered(Y) \u001B[38;5;129;01mor\u001B[39;00m is_valid_sparse_matrix(Y))\n\u001B[1;32m    117\u001B[0m     \u001B[38;5;129;01mand\u001B[39;00m X\u001B[38;5;241m.\u001B[39mdtype \u001B[38;5;241m==\u001B[39m Y\u001B[38;5;241m.\u001B[39mdtype\n\u001B[1;32m    118\u001B[0m     \u001B[38;5;129;01mand\u001B[39;00m X\u001B[38;5;241m.\u001B[39mdtype \u001B[38;5;129;01min\u001B[39;00m (np\u001B[38;5;241m.\u001B[39mfloat32, np\u001B[38;5;241m.\u001B[39mfloat64)\n\u001B[1;32m    119\u001B[0m     \u001B[38;5;129;01mand\u001B[39;00m metric \u001B[38;5;129;01min\u001B[39;00m \u001B[38;5;28mcls\u001B[39m\u001B[38;5;241m.\u001B[39mvalid_metrics()\n\u001B[1;32m    120\u001B[0m )\n\u001B[1;32m    122\u001B[0m \u001B[38;5;28;01mreturn\u001B[39;00m is_usable\n",
      "File \u001B[0;32m~/anaconda3/lib/python3.11/site-packages/sklearn/metrics/_pairwise_distances_reduction/_dispatcher.py:99\u001B[0m, in \u001B[0;36mBaseDistancesReductionDispatcher.is_usable_for.<locals>.is_numpy_c_ordered\u001B[0;34m(X)\u001B[0m\n\u001B[1;32m     98\u001B[0m \u001B[38;5;28;01mdef\u001B[39;00m \u001B[38;5;21mis_numpy_c_ordered\u001B[39m(X):\n\u001B[0;32m---> 99\u001B[0m     \u001B[38;5;28;01mreturn\u001B[39;00m \u001B[38;5;28mhasattr\u001B[39m(X, \u001B[38;5;124m\"\u001B[39m\u001B[38;5;124mflags\u001B[39m\u001B[38;5;124m\"\u001B[39m) \u001B[38;5;129;01mand\u001B[39;00m X\u001B[38;5;241m.\u001B[39mflags\u001B[38;5;241m.\u001B[39mc_contiguous\n",
      "\u001B[0;31mAttributeError\u001B[0m: 'Flags' object has no attribute 'c_contiguous'"
     ]
    }
   ],
   "source": [
    "def knn_classifier_score(knn_classifier, X_test, y_test):\n",
    "    score = knn_classifier.score(X_test, y_test)\n",
    "    return score\n",
    "knn=KNeighborsClassifier(n_neighbors=1)\n",
    "knn.fit(X_train,y_train)\n",
    "print(knn_classifier_score(knn_classifier,X_test,y_test))\n"
   ],
   "metadata": {
    "collapsed": false,
    "ExecuteTime": {
     "end_time": "2024-04-02T23:39:15.586311Z",
     "start_time": "2024-04-02T23:39:15.536891Z"
    }
   },
   "id": "321e95e6f8d7055",
   "execution_count": 55
  },
  {
   "cell_type": "code",
   "outputs": [
    {
     "ename": "AttributeError",
     "evalue": "'Flags' object has no attribute 'c_contiguous'",
     "output_type": "error",
     "traceback": [
      "\u001B[0;31m---------------------------------------------------------------------------\u001B[0m",
      "\u001B[0;31mAttributeError\u001B[0m                            Traceback (most recent call last)",
      "Cell \u001B[0;32mIn[57], line 5\u001B[0m\n\u001B[1;32m      2\u001B[0m     predicted_labels \u001B[38;5;241m=\u001B[39m knn_classifier\u001B[38;5;241m.\u001B[39mpredict(X_test)\n\u001B[1;32m      3\u001B[0m     \u001B[38;5;28;01mreturn\u001B[39;00m predicted_labels\n\u001B[0;32m----> 5\u001B[0m predicted_labels \u001B[38;5;241m=\u001B[39m predict_labels(knn_classifier, X_test)\n\u001B[1;32m      6\u001B[0m \u001B[38;5;28mprint\u001B[39m(predicted_labels)\n",
      "Cell \u001B[0;32mIn[57], line 2\u001B[0m, in \u001B[0;36mpredict_labels\u001B[0;34m(knn_classifier, X_test)\u001B[0m\n\u001B[1;32m      1\u001B[0m \u001B[38;5;28;01mdef\u001B[39;00m \u001B[38;5;21mpredict_labels\u001B[39m(knn_classifier, X_test):\n\u001B[0;32m----> 2\u001B[0m     predicted_labels \u001B[38;5;241m=\u001B[39m knn_classifier\u001B[38;5;241m.\u001B[39mpredict(X_test)\n\u001B[1;32m      3\u001B[0m     \u001B[38;5;28;01mreturn\u001B[39;00m predicted_labels\n",
      "File \u001B[0;32m~/anaconda3/lib/python3.11/site-packages/sklearn/neighbors/_classification.py:246\u001B[0m, in \u001B[0;36mKNeighborsClassifier.predict\u001B[0;34m(self, X)\u001B[0m\n\u001B[1;32m    244\u001B[0m check_is_fitted(\u001B[38;5;28mself\u001B[39m, \u001B[38;5;124m\"\u001B[39m\u001B[38;5;124m_fit_method\u001B[39m\u001B[38;5;124m\"\u001B[39m)\n\u001B[1;32m    245\u001B[0m \u001B[38;5;28;01mif\u001B[39;00m \u001B[38;5;28mself\u001B[39m\u001B[38;5;241m.\u001B[39mweights \u001B[38;5;241m==\u001B[39m \u001B[38;5;124m\"\u001B[39m\u001B[38;5;124muniform\u001B[39m\u001B[38;5;124m\"\u001B[39m:\n\u001B[0;32m--> 246\u001B[0m     \u001B[38;5;28;01mif\u001B[39;00m \u001B[38;5;28mself\u001B[39m\u001B[38;5;241m.\u001B[39m_fit_method \u001B[38;5;241m==\u001B[39m \u001B[38;5;124m\"\u001B[39m\u001B[38;5;124mbrute\u001B[39m\u001B[38;5;124m\"\u001B[39m \u001B[38;5;129;01mand\u001B[39;00m ArgKminClassMode\u001B[38;5;241m.\u001B[39mis_usable_for(\n\u001B[1;32m    247\u001B[0m         X, \u001B[38;5;28mself\u001B[39m\u001B[38;5;241m.\u001B[39m_fit_X, \u001B[38;5;28mself\u001B[39m\u001B[38;5;241m.\u001B[39mmetric\n\u001B[1;32m    248\u001B[0m     ):\n\u001B[1;32m    249\u001B[0m         probabilities \u001B[38;5;241m=\u001B[39m \u001B[38;5;28mself\u001B[39m\u001B[38;5;241m.\u001B[39mpredict_proba(X)\n\u001B[1;32m    250\u001B[0m         \u001B[38;5;28;01mif\u001B[39;00m \u001B[38;5;28mself\u001B[39m\u001B[38;5;241m.\u001B[39moutputs_2d_:\n",
      "File \u001B[0;32m~/anaconda3/lib/python3.11/site-packages/sklearn/metrics/_pairwise_distances_reduction/_dispatcher.py:471\u001B[0m, in \u001B[0;36mArgKminClassMode.is_usable_for\u001B[0;34m(cls, X, Y, metric)\u001B[0m\n\u001B[1;32m    448\u001B[0m \u001B[38;5;129m@classmethod\u001B[39m\n\u001B[1;32m    449\u001B[0m \u001B[38;5;28;01mdef\u001B[39;00m \u001B[38;5;21mis_usable_for\u001B[39m(\u001B[38;5;28mcls\u001B[39m, X, Y, metric) \u001B[38;5;241m-\u001B[39m\u001B[38;5;241m>\u001B[39m \u001B[38;5;28mbool\u001B[39m:\n\u001B[1;32m    450\u001B[0m \u001B[38;5;250m    \u001B[39m\u001B[38;5;124;03m\"\"\"Return True if the dispatcher can be used for the given parameters.\u001B[39;00m\n\u001B[1;32m    451\u001B[0m \n\u001B[1;32m    452\u001B[0m \u001B[38;5;124;03m    Parameters\u001B[39;00m\n\u001B[0;32m   (...)\u001B[0m\n\u001B[1;32m    468\u001B[0m \u001B[38;5;124;03m    True if the PairwiseDistancesReduction can be used, else False.\u001B[39;00m\n\u001B[1;32m    469\u001B[0m \u001B[38;5;124;03m    \"\"\"\u001B[39;00m\n\u001B[1;32m    470\u001B[0m     \u001B[38;5;28;01mreturn\u001B[39;00m (\n\u001B[0;32m--> 471\u001B[0m         ArgKmin\u001B[38;5;241m.\u001B[39mis_usable_for(X, Y, metric)\n\u001B[1;32m    472\u001B[0m         \u001B[38;5;66;03m# TODO: Support CSR matrices.\u001B[39;00m\n\u001B[1;32m    473\u001B[0m         \u001B[38;5;129;01mand\u001B[39;00m \u001B[38;5;129;01mnot\u001B[39;00m issparse(X)\n\u001B[1;32m    474\u001B[0m         \u001B[38;5;129;01mand\u001B[39;00m \u001B[38;5;129;01mnot\u001B[39;00m issparse(Y)\n\u001B[1;32m    475\u001B[0m         \u001B[38;5;66;03m# TODO: implement Euclidean specialization with GEMM.\u001B[39;00m\n\u001B[1;32m    476\u001B[0m         \u001B[38;5;129;01mand\u001B[39;00m metric \u001B[38;5;129;01mnot\u001B[39;00m \u001B[38;5;129;01min\u001B[39;00m (\u001B[38;5;124m\"\u001B[39m\u001B[38;5;124meuclidean\u001B[39m\u001B[38;5;124m\"\u001B[39m, \u001B[38;5;124m\"\u001B[39m\u001B[38;5;124msqeuclidean\u001B[39m\u001B[38;5;124m\"\u001B[39m)\n\u001B[1;32m    477\u001B[0m     )\n",
      "File \u001B[0;32m~/anaconda3/lib/python3.11/site-packages/sklearn/metrics/_pairwise_distances_reduction/_dispatcher.py:115\u001B[0m, in \u001B[0;36mBaseDistancesReductionDispatcher.is_usable_for\u001B[0;34m(cls, X, Y, metric)\u001B[0m\n\u001B[1;32m    101\u001B[0m \u001B[38;5;28;01mdef\u001B[39;00m \u001B[38;5;21mis_valid_sparse_matrix\u001B[39m(X):\n\u001B[1;32m    102\u001B[0m     \u001B[38;5;28;01mreturn\u001B[39;00m (\n\u001B[1;32m    103\u001B[0m         isspmatrix_csr(X)\n\u001B[1;32m    104\u001B[0m         \u001B[38;5;129;01mand\u001B[39;00m\n\u001B[0;32m   (...)\u001B[0m\n\u001B[1;32m    110\u001B[0m         X\u001B[38;5;241m.\u001B[39mindices\u001B[38;5;241m.\u001B[39mdtype \u001B[38;5;241m==\u001B[39m X\u001B[38;5;241m.\u001B[39mindptr\u001B[38;5;241m.\u001B[39mdtype \u001B[38;5;241m==\u001B[39m np\u001B[38;5;241m.\u001B[39mint32\n\u001B[1;32m    111\u001B[0m     )\n\u001B[1;32m    113\u001B[0m is_usable \u001B[38;5;241m=\u001B[39m (\n\u001B[1;32m    114\u001B[0m     get_config()\u001B[38;5;241m.\u001B[39mget(\u001B[38;5;124m\"\u001B[39m\u001B[38;5;124menable_cython_pairwise_dist\u001B[39m\u001B[38;5;124m\"\u001B[39m, \u001B[38;5;28;01mTrue\u001B[39;00m)\n\u001B[0;32m--> 115\u001B[0m     \u001B[38;5;129;01mand\u001B[39;00m (is_numpy_c_ordered(X) \u001B[38;5;129;01mor\u001B[39;00m is_valid_sparse_matrix(X))\n\u001B[1;32m    116\u001B[0m     \u001B[38;5;129;01mand\u001B[39;00m (is_numpy_c_ordered(Y) \u001B[38;5;129;01mor\u001B[39;00m is_valid_sparse_matrix(Y))\n\u001B[1;32m    117\u001B[0m     \u001B[38;5;129;01mand\u001B[39;00m X\u001B[38;5;241m.\u001B[39mdtype \u001B[38;5;241m==\u001B[39m Y\u001B[38;5;241m.\u001B[39mdtype\n\u001B[1;32m    118\u001B[0m     \u001B[38;5;129;01mand\u001B[39;00m X\u001B[38;5;241m.\u001B[39mdtype \u001B[38;5;129;01min\u001B[39;00m (np\u001B[38;5;241m.\u001B[39mfloat32, np\u001B[38;5;241m.\u001B[39mfloat64)\n\u001B[1;32m    119\u001B[0m     \u001B[38;5;129;01mand\u001B[39;00m metric \u001B[38;5;129;01min\u001B[39;00m \u001B[38;5;28mcls\u001B[39m\u001B[38;5;241m.\u001B[39mvalid_metrics()\n\u001B[1;32m    120\u001B[0m )\n\u001B[1;32m    122\u001B[0m \u001B[38;5;28;01mreturn\u001B[39;00m is_usable\n",
      "File \u001B[0;32m~/anaconda3/lib/python3.11/site-packages/sklearn/metrics/_pairwise_distances_reduction/_dispatcher.py:99\u001B[0m, in \u001B[0;36mBaseDistancesReductionDispatcher.is_usable_for.<locals>.is_numpy_c_ordered\u001B[0;34m(X)\u001B[0m\n\u001B[1;32m     98\u001B[0m \u001B[38;5;28;01mdef\u001B[39;00m \u001B[38;5;21mis_numpy_c_ordered\u001B[39m(X):\n\u001B[0;32m---> 99\u001B[0m     \u001B[38;5;28;01mreturn\u001B[39;00m \u001B[38;5;28mhasattr\u001B[39m(X, \u001B[38;5;124m\"\u001B[39m\u001B[38;5;124mflags\u001B[39m\u001B[38;5;124m\"\u001B[39m) \u001B[38;5;129;01mand\u001B[39;00m X\u001B[38;5;241m.\u001B[39mflags\u001B[38;5;241m.\u001B[39mc_contiguous\n",
      "\u001B[0;31mAttributeError\u001B[0m: 'Flags' object has no attribute 'c_contiguous'"
     ]
    }
   ],
   "source": [
    "def predict_labels(knn_classifier, X_test):\n",
    "    predicted_labels = knn_classifier.predict(X_test)\n",
    "    return predicted_labels\n",
    "\n",
    "predicted_labels = predict_labels(knn_classifier, X_test)\n",
    "print(predicted_labels)\n"
   ],
   "metadata": {
    "collapsed": false,
    "ExecuteTime": {
     "end_time": "2024-04-02T23:40:30.922590Z",
     "start_time": "2024-04-02T23:40:30.876390Z"
    }
   },
   "id": "e86e81b9d68423ed",
   "execution_count": 57
  },
  {
   "cell_type": "code",
   "outputs": [
    {
     "ename": "AttributeError",
     "evalue": "'Flags' object has no attribute 'c_contiguous'",
     "output_type": "error",
     "traceback": [
      "\u001B[0;31m---------------------------------------------------------------------------\u001B[0m",
      "\u001B[0;31mAttributeError\u001B[0m                            Traceback (most recent call last)",
      "Cell \u001B[0;32mIn[58], line 4\u001B[0m\n\u001B[1;32m      2\u001B[0m     score \u001B[38;5;241m=\u001B[39m knn_classifier\u001B[38;5;241m.\u001B[39mscore(X_test, y_test)\n\u001B[1;32m      3\u001B[0m     \u001B[38;5;28;01mreturn\u001B[39;00m score\n\u001B[0;32m----> 4\u001B[0m accuracy_score \u001B[38;5;241m=\u001B[39m knn_classifier_score(knn_classifier, X_test, y_test)\n\u001B[1;32m      5\u001B[0m \u001B[38;5;28mprint\u001B[39m(accuracy_score)\n",
      "Cell \u001B[0;32mIn[58], line 2\u001B[0m, in \u001B[0;36mknn_classifier_score\u001B[0;34m(knn_classifier, X_test, y_test)\u001B[0m\n\u001B[1;32m      1\u001B[0m \u001B[38;5;28;01mdef\u001B[39;00m \u001B[38;5;21mknn_classifier_score\u001B[39m(knn_classifier, X_test, y_test):\n\u001B[0;32m----> 2\u001B[0m     score \u001B[38;5;241m=\u001B[39m knn_classifier\u001B[38;5;241m.\u001B[39mscore(X_test, y_test)\n\u001B[1;32m      3\u001B[0m     \u001B[38;5;28;01mreturn\u001B[39;00m score\n",
      "File \u001B[0;32m~/anaconda3/lib/python3.11/site-packages/sklearn/base.py:705\u001B[0m, in \u001B[0;36mClassifierMixin.score\u001B[0;34m(self, X, y, sample_weight)\u001B[0m\n\u001B[1;32m    680\u001B[0m \u001B[38;5;250m\u001B[39m\u001B[38;5;124;03m\"\"\"\u001B[39;00m\n\u001B[1;32m    681\u001B[0m \u001B[38;5;124;03mReturn the mean accuracy on the given test data and labels.\u001B[39;00m\n\u001B[1;32m    682\u001B[0m \n\u001B[0;32m   (...)\u001B[0m\n\u001B[1;32m    701\u001B[0m \u001B[38;5;124;03m    Mean accuracy of ``self.predict(X)`` w.r.t. `y`.\u001B[39;00m\n\u001B[1;32m    702\u001B[0m \u001B[38;5;124;03m\"\"\"\u001B[39;00m\n\u001B[1;32m    703\u001B[0m \u001B[38;5;28;01mfrom\u001B[39;00m \u001B[38;5;21;01m.\u001B[39;00m\u001B[38;5;21;01mmetrics\u001B[39;00m \u001B[38;5;28;01mimport\u001B[39;00m accuracy_score\n\u001B[0;32m--> 705\u001B[0m \u001B[38;5;28;01mreturn\u001B[39;00m accuracy_score(y, \u001B[38;5;28mself\u001B[39m\u001B[38;5;241m.\u001B[39mpredict(X), sample_weight\u001B[38;5;241m=\u001B[39msample_weight)\n",
      "File \u001B[0;32m~/anaconda3/lib/python3.11/site-packages/sklearn/neighbors/_classification.py:246\u001B[0m, in \u001B[0;36mKNeighborsClassifier.predict\u001B[0;34m(self, X)\u001B[0m\n\u001B[1;32m    244\u001B[0m check_is_fitted(\u001B[38;5;28mself\u001B[39m, \u001B[38;5;124m\"\u001B[39m\u001B[38;5;124m_fit_method\u001B[39m\u001B[38;5;124m\"\u001B[39m)\n\u001B[1;32m    245\u001B[0m \u001B[38;5;28;01mif\u001B[39;00m \u001B[38;5;28mself\u001B[39m\u001B[38;5;241m.\u001B[39mweights \u001B[38;5;241m==\u001B[39m \u001B[38;5;124m\"\u001B[39m\u001B[38;5;124muniform\u001B[39m\u001B[38;5;124m\"\u001B[39m:\n\u001B[0;32m--> 246\u001B[0m     \u001B[38;5;28;01mif\u001B[39;00m \u001B[38;5;28mself\u001B[39m\u001B[38;5;241m.\u001B[39m_fit_method \u001B[38;5;241m==\u001B[39m \u001B[38;5;124m\"\u001B[39m\u001B[38;5;124mbrute\u001B[39m\u001B[38;5;124m\"\u001B[39m \u001B[38;5;129;01mand\u001B[39;00m ArgKminClassMode\u001B[38;5;241m.\u001B[39mis_usable_for(\n\u001B[1;32m    247\u001B[0m         X, \u001B[38;5;28mself\u001B[39m\u001B[38;5;241m.\u001B[39m_fit_X, \u001B[38;5;28mself\u001B[39m\u001B[38;5;241m.\u001B[39mmetric\n\u001B[1;32m    248\u001B[0m     ):\n\u001B[1;32m    249\u001B[0m         probabilities \u001B[38;5;241m=\u001B[39m \u001B[38;5;28mself\u001B[39m\u001B[38;5;241m.\u001B[39mpredict_proba(X)\n\u001B[1;32m    250\u001B[0m         \u001B[38;5;28;01mif\u001B[39;00m \u001B[38;5;28mself\u001B[39m\u001B[38;5;241m.\u001B[39moutputs_2d_:\n",
      "File \u001B[0;32m~/anaconda3/lib/python3.11/site-packages/sklearn/metrics/_pairwise_distances_reduction/_dispatcher.py:471\u001B[0m, in \u001B[0;36mArgKminClassMode.is_usable_for\u001B[0;34m(cls, X, Y, metric)\u001B[0m\n\u001B[1;32m    448\u001B[0m \u001B[38;5;129m@classmethod\u001B[39m\n\u001B[1;32m    449\u001B[0m \u001B[38;5;28;01mdef\u001B[39;00m \u001B[38;5;21mis_usable_for\u001B[39m(\u001B[38;5;28mcls\u001B[39m, X, Y, metric) \u001B[38;5;241m-\u001B[39m\u001B[38;5;241m>\u001B[39m \u001B[38;5;28mbool\u001B[39m:\n\u001B[1;32m    450\u001B[0m \u001B[38;5;250m    \u001B[39m\u001B[38;5;124;03m\"\"\"Return True if the dispatcher can be used for the given parameters.\u001B[39;00m\n\u001B[1;32m    451\u001B[0m \n\u001B[1;32m    452\u001B[0m \u001B[38;5;124;03m    Parameters\u001B[39;00m\n\u001B[0;32m   (...)\u001B[0m\n\u001B[1;32m    468\u001B[0m \u001B[38;5;124;03m    True if the PairwiseDistancesReduction can be used, else False.\u001B[39;00m\n\u001B[1;32m    469\u001B[0m \u001B[38;5;124;03m    \"\"\"\u001B[39;00m\n\u001B[1;32m    470\u001B[0m     \u001B[38;5;28;01mreturn\u001B[39;00m (\n\u001B[0;32m--> 471\u001B[0m         ArgKmin\u001B[38;5;241m.\u001B[39mis_usable_for(X, Y, metric)\n\u001B[1;32m    472\u001B[0m         \u001B[38;5;66;03m# TODO: Support CSR matrices.\u001B[39;00m\n\u001B[1;32m    473\u001B[0m         \u001B[38;5;129;01mand\u001B[39;00m \u001B[38;5;129;01mnot\u001B[39;00m issparse(X)\n\u001B[1;32m    474\u001B[0m         \u001B[38;5;129;01mand\u001B[39;00m \u001B[38;5;129;01mnot\u001B[39;00m issparse(Y)\n\u001B[1;32m    475\u001B[0m         \u001B[38;5;66;03m# TODO: implement Euclidean specialization with GEMM.\u001B[39;00m\n\u001B[1;32m    476\u001B[0m         \u001B[38;5;129;01mand\u001B[39;00m metric \u001B[38;5;129;01mnot\u001B[39;00m \u001B[38;5;129;01min\u001B[39;00m (\u001B[38;5;124m\"\u001B[39m\u001B[38;5;124meuclidean\u001B[39m\u001B[38;5;124m\"\u001B[39m, \u001B[38;5;124m\"\u001B[39m\u001B[38;5;124msqeuclidean\u001B[39m\u001B[38;5;124m\"\u001B[39m)\n\u001B[1;32m    477\u001B[0m     )\n",
      "File \u001B[0;32m~/anaconda3/lib/python3.11/site-packages/sklearn/metrics/_pairwise_distances_reduction/_dispatcher.py:115\u001B[0m, in \u001B[0;36mBaseDistancesReductionDispatcher.is_usable_for\u001B[0;34m(cls, X, Y, metric)\u001B[0m\n\u001B[1;32m    101\u001B[0m \u001B[38;5;28;01mdef\u001B[39;00m \u001B[38;5;21mis_valid_sparse_matrix\u001B[39m(X):\n\u001B[1;32m    102\u001B[0m     \u001B[38;5;28;01mreturn\u001B[39;00m (\n\u001B[1;32m    103\u001B[0m         isspmatrix_csr(X)\n\u001B[1;32m    104\u001B[0m         \u001B[38;5;129;01mand\u001B[39;00m\n\u001B[0;32m   (...)\u001B[0m\n\u001B[1;32m    110\u001B[0m         X\u001B[38;5;241m.\u001B[39mindices\u001B[38;5;241m.\u001B[39mdtype \u001B[38;5;241m==\u001B[39m X\u001B[38;5;241m.\u001B[39mindptr\u001B[38;5;241m.\u001B[39mdtype \u001B[38;5;241m==\u001B[39m np\u001B[38;5;241m.\u001B[39mint32\n\u001B[1;32m    111\u001B[0m     )\n\u001B[1;32m    113\u001B[0m is_usable \u001B[38;5;241m=\u001B[39m (\n\u001B[1;32m    114\u001B[0m     get_config()\u001B[38;5;241m.\u001B[39mget(\u001B[38;5;124m\"\u001B[39m\u001B[38;5;124menable_cython_pairwise_dist\u001B[39m\u001B[38;5;124m\"\u001B[39m, \u001B[38;5;28;01mTrue\u001B[39;00m)\n\u001B[0;32m--> 115\u001B[0m     \u001B[38;5;129;01mand\u001B[39;00m (is_numpy_c_ordered(X) \u001B[38;5;129;01mor\u001B[39;00m is_valid_sparse_matrix(X))\n\u001B[1;32m    116\u001B[0m     \u001B[38;5;129;01mand\u001B[39;00m (is_numpy_c_ordered(Y) \u001B[38;5;129;01mor\u001B[39;00m is_valid_sparse_matrix(Y))\n\u001B[1;32m    117\u001B[0m     \u001B[38;5;129;01mand\u001B[39;00m X\u001B[38;5;241m.\u001B[39mdtype \u001B[38;5;241m==\u001B[39m Y\u001B[38;5;241m.\u001B[39mdtype\n\u001B[1;32m    118\u001B[0m     \u001B[38;5;129;01mand\u001B[39;00m X\u001B[38;5;241m.\u001B[39mdtype \u001B[38;5;129;01min\u001B[39;00m (np\u001B[38;5;241m.\u001B[39mfloat32, np\u001B[38;5;241m.\u001B[39mfloat64)\n\u001B[1;32m    119\u001B[0m     \u001B[38;5;129;01mand\u001B[39;00m metric \u001B[38;5;129;01min\u001B[39;00m \u001B[38;5;28mcls\u001B[39m\u001B[38;5;241m.\u001B[39mvalid_metrics()\n\u001B[1;32m    120\u001B[0m )\n\u001B[1;32m    122\u001B[0m \u001B[38;5;28;01mreturn\u001B[39;00m is_usable\n",
      "File \u001B[0;32m~/anaconda3/lib/python3.11/site-packages/sklearn/metrics/_pairwise_distances_reduction/_dispatcher.py:99\u001B[0m, in \u001B[0;36mBaseDistancesReductionDispatcher.is_usable_for.<locals>.is_numpy_c_ordered\u001B[0;34m(X)\u001B[0m\n\u001B[1;32m     98\u001B[0m \u001B[38;5;28;01mdef\u001B[39;00m \u001B[38;5;21mis_numpy_c_ordered\u001B[39m(X):\n\u001B[0;32m---> 99\u001B[0m     \u001B[38;5;28;01mreturn\u001B[39;00m \u001B[38;5;28mhasattr\u001B[39m(X, \u001B[38;5;124m\"\u001B[39m\u001B[38;5;124mflags\u001B[39m\u001B[38;5;124m\"\u001B[39m) \u001B[38;5;129;01mand\u001B[39;00m X\u001B[38;5;241m.\u001B[39mflags\u001B[38;5;241m.\u001B[39mc_contiguous\n",
      "\u001B[0;31mAttributeError\u001B[0m: 'Flags' object has no attribute 'c_contiguous'"
     ]
    }
   ],
   "source": [
    "def knn_classifier_score(knn_classifier, X_test, y_test):\n",
    "    score = knn_classifier.score(X_test, y_test)\n",
    "    return score\n",
    "accuracy_score = knn_classifier_score(knn_classifier, X_test, y_test)\n",
    "print(accuracy_score)\n",
    "\n"
   ],
   "metadata": {
    "collapsed": false,
    "ExecuteTime": {
     "end_time": "2024-04-02T23:40:55.935488Z",
     "start_time": "2024-04-02T23:40:55.863225Z"
    }
   },
   "id": "4ea3e13d08d78fe0",
   "execution_count": 58
  },
  {
   "cell_type": "code",
   "outputs": [],
   "source": [],
   "metadata": {
    "collapsed": false
   },
   "id": "839f983f0090ca19"
  }
 ],
 "metadata": {
  "kernelspec": {
   "display_name": "Python 3",
   "language": "python",
   "name": "python3"
  },
  "language_info": {
   "codemirror_mode": {
    "name": "ipython",
    "version": 2
   },
   "file_extension": ".py",
   "mimetype": "text/x-python",
   "name": "python",
   "nbconvert_exporter": "python",
   "pygments_lexer": "ipython2",
   "version": "2.7.6"
  }
 },
 "nbformat": 4,
 "nbformat_minor": 5
}
